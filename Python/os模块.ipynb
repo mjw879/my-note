{
 "cells": [
  {
   "cell_type": "code",
   "execution_count": 1,
   "metadata": {},
   "outputs": [],
   "source": [
    "import os"
   ]
  },
  {
   "attachments": {},
   "cell_type": "markdown",
   "metadata": {},
   "source": [
    "##  os.name\n",
    "**当前 Python 运行所在的环境**\n",
    "1. posix: Portable Operating System Interface of UNIX（可移植操作系统接口）的缩写。Linux 和 Mac OS 均会返回该值\n",
    "2. nt:      \"Microsoft Windows NT\"，大体可以等同于 Windows 操作系统\n",
    "3. java:   Java 虚拟机环境下的返回值"
   ]
  },
  {
   "cell_type": "code",
   "execution_count": 2,
   "metadata": {},
   "outputs": [
    {
     "data": {
      "text/plain": [
       "'nt'"
      ]
     },
     "execution_count": 2,
     "metadata": {},
     "output_type": "execute_result"
    }
   ],
   "source": [
    "os.name"
   ]
  },
  {
   "attachments": {},
   "cell_type": "markdown",
   "metadata": {},
   "source": [
    "## os.environ\n",
    "**返回环境相关的信息**\n",
    "\n",
    "比如其中键为“HOMEPATH”（Windows 下，Linux 下为“HOME”）的项，对应的值就是用户主目录的路径。"
   ]
  },
  {
   "cell_type": "code",
   "execution_count": 3,
   "metadata": {},
   "outputs": [
    {
     "data": {
      "text/plain": [
       "'\\\\Users\\\\qq879'"
      ]
     },
     "execution_count": 3,
     "metadata": {},
     "output_type": "execute_result"
    }
   ],
   "source": [
    "os.environ[\"HOMEPATH\"]"
   ]
  },
  {
   "attachments": {},
   "cell_type": "markdown",
   "metadata": {},
   "source": [
    "## os.walk()\n",
    "**这个函数需要传入一个路径作为`top`参数，函数的作用是在以`top`为根节点的目录树中游走，对树中的每个目录生成一个由`(dirpath, dirnames, filenames)`三项组成的三元组。**\n",
    "\n",
    "`dirpath`是指示这个目录路径  \n",
    "`dirnames`是一个dirpath下子目录名（除去“.”和“..”）组成的列表  \n",
    "`filenames`是由dirpath下所有非目录的文件名组成的列表。  \n",
    ">要注意的是，这些名称并不包含所在路径本身，要获取`dirpath`下某个文件或路径从`top`目录开始的完整路径，需要使用`os.path.join(dirpath, name)`"
   ]
  },
  {
   "cell_type": "code",
   "execution_count": 4,
   "metadata": {},
   "outputs": [
    {
     "name": "stdout",
     "output_type": "stream",
     "text": [
      "('.', [], ['mp42gif.py', 'os模块.ipynb'])\n"
     ]
    }
   ],
   "source": [
    "for item in os.walk(\".\"):\n",
    "    print(item)"
   ]
  },
  {
   "attachments": {},
   "cell_type": "markdown",
   "metadata": {},
   "source": [
    "## os.listdir()\n",
    "**列出目录下的全部文件**"
   ]
  },
  {
   "cell_type": "code",
   "execution_count": 5,
   "metadata": {},
   "outputs": [
    {
     "name": "stdout",
     "output_type": "stream",
     "text": [
      "mp42gif.py\n",
      "os模块.ipynb\n"
     ]
    }
   ],
   "source": [
    "for item in os.listdir(\".\"):\n",
    "    print(item)"
   ]
  },
  {
   "attachments": {},
   "cell_type": "markdown",
   "metadata": {},
   "source": [
    "## os.mkdir()\n",
    "**新建文件夹**\n",
    "\n",
    "*递归版:`os.makedirs()`*"
   ]
  },
  {
   "cell_type": "code",
   "execution_count": 6,
   "metadata": {},
   "outputs": [],
   "source": [
    "os.mkdir(\"test_os_mkdir\")"
   ]
  },
  {
   "attachments": {},
   "cell_type": "markdown",
   "metadata": {},
   "source": [
    "## os.remove()\n",
    "**删除文件**"
   ]
  },
  {
   "cell_type": "code",
   "execution_count": 8,
   "metadata": {},
   "outputs": [],
   "source": [
    "os.remove(\"./test_os_remove.txt\")"
   ]
  },
  {
   "attachments": {},
   "cell_type": "markdown",
   "metadata": {},
   "source": [
    "## os.rmdir()\n",
    "**删除目录**  \n",
    "\n",
    "*递归版:`os.removedirs()`*"
   ]
  },
  {
   "cell_type": "code",
   "execution_count": 9,
   "metadata": {},
   "outputs": [],
   "source": [
    "os.rmdir(\"./test_os_rmdir\")"
   ]
  },
  {
   "attachments": {},
   "cell_type": "markdown",
   "metadata": {},
   "source": [
    "## os.rename()\n",
    "**将文件或目录重命名(可作为移动文件或目录使用)**\n",
    "\n",
    "*递归版:`os.renames()`*"
   ]
  },
  {
   "cell_type": "code",
   "execution_count": 19,
   "metadata": {},
   "outputs": [],
   "source": [
    "os.rename(\"test_os_rename\",\"_test_os_rename\")"
   ]
  },
  {
   "attachments": {},
   "cell_type": "markdown",
   "metadata": {},
   "source": [
    "## os.getcwd()\n",
    "**获取当前工作路径**"
   ]
  },
  {
   "cell_type": "code",
   "execution_count": 20,
   "metadata": {},
   "outputs": [
    {
     "data": {
      "text/plain": [
       "'c:\\\\Users\\\\qq879\\\\Documents\\\\my-note\\\\Python'"
      ]
     },
     "execution_count": 20,
     "metadata": {},
     "output_type": "execute_result"
    }
   ],
   "source": [
    "os.getcwd()"
   ]
  },
  {
   "attachments": {},
   "cell_type": "markdown",
   "metadata": {},
   "source": [
    "## os.chdir()\n",
    "**切换当前工作路径**"
   ]
  },
  {
   "cell_type": "code",
   "execution_count": 21,
   "metadata": {},
   "outputs": [
    {
     "data": {
      "text/plain": [
       "'c:\\\\Users\\\\qq879\\\\Documents\\\\my-note'"
      ]
     },
     "execution_count": 21,
     "metadata": {},
     "output_type": "execute_result"
    }
   ],
   "source": [
    "os.chdir(\"../\")\n",
    "os.getcwd()"
   ]
  },
  {
   "attachments": {},
   "cell_type": "markdown",
   "metadata": {},
   "source": [
    "## os.path.join()\n",
    "**将多个传入路径组合为一个路径**"
   ]
  },
  {
   "cell_type": "code",
   "execution_count": 22,
   "metadata": {},
   "outputs": [
    {
     "name": "stdout",
     "output_type": "stream",
     "text": [
      "just\\do\\python\\dot\\com\n",
      "d:/python\\dot\\com\n",
      "g:/com\n"
     ]
    }
   ],
   "source": [
    "print(os.path.join(\"just\", \"do\", \"python\", \"dot\", \"com\"))\n",
    "print(os.path.join(\"just\", \"do\", \"d:/\", \"python\", \"dot\", \"com\"))\n",
    "print(os.path.join(\"just\", \"do\", \"d:/\", \"python\", \"dot\", \"g:/\", \"com\"))"
   ]
  },
  {
   "attachments": {},
   "cell_type": "markdown",
   "metadata": {},
   "source": [
    "## os.path.abspath()\n",
    "**将传入路径规范化**"
   ]
  },
  {
   "cell_type": "code",
   "execution_count": 24,
   "metadata": {},
   "outputs": [
    {
     "data": {
      "text/plain": [
       "'a:\\\\just\\\\do\\\\python'"
      ]
     },
     "execution_count": 24,
     "metadata": {},
     "output_type": "execute_result"
    }
   ],
   "source": [
    "os.path.abspath(\"a:/just/do/python\")"
   ]
  },
  {
   "attachments": {},
   "cell_type": "markdown",
   "metadata": {},
   "source": [
    "## os.path.basename()\n",
    "**获取传入路径传入路径**"
   ]
  },
  {
   "cell_type": "code",
   "execution_count": 25,
   "metadata": {},
   "outputs": [
    {
     "data": {
      "text/plain": [
       "'IAmBasename'"
      ]
     },
     "execution_count": 25,
     "metadata": {},
     "output_type": "execute_result"
    }
   ],
   "source": [
    "os.path.basename(\"/ityouknow/justdopython/IAmBasename\") # 如果最下级目录之后还有一个分隔符，得到的就会是一个空字符串，如：os.path.basename(\"/ityouknow/justdopython/IAmBasename/\")"
   ]
  },
  {
   "attachments": {},
   "cell_type": "markdown",
   "metadata": {},
   "source": [
    "## os.path.dirname()\n",
    "**与上一个函数正好相反**"
   ]
  },
  {
   "cell_type": "code",
   "execution_count": 26,
   "metadata": {},
   "outputs": [
    {
     "data": {
      "text/plain": [
       "'/ityouknow/justdopython'"
      ]
     },
     "execution_count": 26,
     "metadata": {},
     "output_type": "execute_result"
    }
   ],
   "source": [
    "os.path.dirname(\"/ityouknow/justdopython/IAmBasename\")"
   ]
  },
  {
   "attachments": {},
   "cell_type": "markdown",
   "metadata": {},
   "source": [
    "## os.path.split()\n",
    "**将传入路径以最后一个分隔符为界，分成两个字符串**\n",
    "\n",
    "*前两个函数`os.path.dirname()`和`os.path.basename()`的返回值分别是函数`os.path.split()`返回值的第一个、第二个元素*"
   ]
  },
  {
   "cell_type": "code",
   "execution_count": 27,
   "metadata": {},
   "outputs": [
    {
     "name": "stdout",
     "output_type": "stream",
     "text": [
      "/ityouknow/justdopython\n",
      "IAmBasename\n"
     ]
    }
   ],
   "source": [
    "dirname,basename=os.path.split(\"/ityouknow/justdopython/IAmBasename\")\n",
    "print(dirname)\n",
    "print(basename)"
   ]
  },
  {
   "attachments": {},
   "cell_type": "markdown",
   "metadata": {},
   "source": [
    "## os.path.exists()\n",
    "**判断路径是否存在**"
   ]
  },
  {
   "cell_type": "code",
   "execution_count": 28,
   "metadata": {},
   "outputs": [
    {
     "name": "stdout",
     "output_type": "stream",
     "text": [
      "True\n",
      "False\n"
     ]
    }
   ],
   "source": [
    "print(os.path.exists(\".\"))\n",
    "print(os.path.exists(\"./just\"))"
   ]
  },
  {
   "attachments": {},
   "cell_type": "markdown",
   "metadata": {},
   "source": [
    "## os.path.isabs()\n",
    "**判断传入路径是否是绝对路径**"
   ]
  },
  {
   "cell_type": "code",
   "execution_count": 29,
   "metadata": {},
   "outputs": [
    {
     "data": {
      "text/plain": [
       "True"
      ]
     },
     "execution_count": 29,
     "metadata": {},
     "output_type": "execute_result"
    }
   ],
   "source": [
    "os.path.isabs(\"a:/justdopython\")"
   ]
  },
  {
   "attachments": {},
   "cell_type": "markdown",
   "metadata": {},
   "source": [
    "## os.path.isfile() & os.path.isdir()\n",
    "**判断传入路径是否是文件或路径**"
   ]
  },
  {
   "cell_type": "code",
   "execution_count": 35,
   "metadata": {},
   "outputs": [
    {
     "name": "stdout",
     "output_type": "stream",
     "text": [
      "True\n",
      "False\n",
      "True\n",
      "False\n"
     ]
    }
   ],
   "source": [
    "print(os.path.isfile(\"C:\\\\Users\\\\qq879\\\\Documents\\\\my-note\\\\Python\\\\mp42gif.py\"))\n",
    "print(os.path.isfile(\"C:\\\\Users\\\\qq879\\\\Documents\\\\my-note\\\\Python\\\\_mp42gif.py\"))\n",
    "print(os.path.isdir(\".\"))\n",
    "print(os.path.isdir(\"C:\\\\Users\\\\qq879\\\\Documents\\\\my-note\\\\Python\\\\mp42gif.py\"))"
   ]
  }
 ],
 "metadata": {
  "kernelspec": {
   "display_name": "Python 3",
   "language": "python",
   "name": "python3"
  },
  "language_info": {
   "codemirror_mode": {
    "name": "ipython",
    "version": 3
   },
   "file_extension": ".py",
   "mimetype": "text/x-python",
   "name": "python",
   "nbconvert_exporter": "python",
   "pygments_lexer": "ipython3",
   "version": "3.8.8"
  },
  "orig_nbformat": 4,
  "vscode": {
   "interpreter": {
    "hash": "5198262fe4b35b279c8409573173413f06860babf5a4d381e3758cebcc1c2771"
   }
  }
 },
 "nbformat": 4,
 "nbformat_minor": 2
}
